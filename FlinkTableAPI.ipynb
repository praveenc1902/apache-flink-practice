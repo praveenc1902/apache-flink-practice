{
 "cells": [
  {
   "cell_type": "code",
   "execution_count": 1,
   "id": "30b8b1dd-1bdc-4797-8a87-87d1c0a0330a",
   "metadata": {},
   "outputs": [],
   "source": [
    "import argparse\n",
    "import logging\n",
    "import sys\n",
    "\n",
    "from pyflink.common import Row\n",
    "from pyflink.table import (EnvironmentSettings, TableEnvironment, TableDescriptor, Schema,\n",
    "                           DataTypes, FormatDescriptor)\n",
    "from pyflink.table.expressions import lit, col\n",
    "from pyflink.table.udf import udtf"
   ]
  },
  {
   "cell_type": "code",
   "execution_count": 2,
   "id": "6285df87-e445-421c-ad52-a23ab387a909",
   "metadata": {},
   "outputs": [],
   "source": [
    "#This serves as the main entry point for interacting with the Flink runtime. It can be used for setting execution parameters such as \n",
    "#restart strategy, default parallelism, etc. The table config allows setting Table API specific configurations."
   ]
  },
  {
   "cell_type": "code",
   "execution_count": 14,
   "id": "cc26d580-6cc5-4388-9f4d-ce0f3e8782f3",
   "metadata": {},
   "outputs": [
    {
     "data": {
      "text/plain": [
       "<pyflink.table.table_config.TableConfig at 0x167ce4990>"
      ]
     },
     "execution_count": 14,
     "metadata": {},
     "output_type": "execute_result"
    }
   ],
   "source": [
    "t_env = TableEnvironment.create(EnvironmentSettings.in_streaming_mode())\n",
    "t_env.get_config().set(\"parallelism.default\", \"1\")"
   ]
  },
  {
   "cell_type": "code",
   "execution_count": 15,
   "id": "425ce01b-7cc8-46b1-8b08-ca746fd2188f",
   "metadata": {},
   "outputs": [],
   "source": [
    "t_env.create_temporary_table(\n",
    "    'source',\n",
    "    TableDescriptor.for_connector('filesystem')\n",
    "    .schema(Schema.new_builder()\n",
    "            .column(\"word\",DataTypes.STRING())\n",
    "            .build())\n",
    "    .option('path','input.csv')\n",
    "    .format('csv')\n",
    "        .build())\n",
    "tab = t_env.from_path('source')"
   ]
  },
  {
   "cell_type": "code",
   "execution_count": 16,
   "id": "a99f3667-1211-4328-964b-f3b94e8bd144",
   "metadata": {},
   "outputs": [],
   "source": [
    "t_env.create_temporary_table(\n",
    "    'sink',\n",
    "    TableDescriptor.for_connector('filesystem')\n",
    "        .schema(Schema.new_builder()\n",
    "                .column('word', DataTypes.STRING())\n",
    "                .column('count', DataTypes.BIGINT())\n",
    "                .build())\n",
    "        .option('path', 'output')\n",
    "        .format(FormatDescriptor.for_format('canal-json')\n",
    "                .build())\n",
    "        .build())"
   ]
  },
  {
   "cell_type": "code",
   "execution_count": 17,
   "id": "d89cbe92-d16d-4f27-bc77-e12e0aeb6568",
   "metadata": {},
   "outputs": [],
   "source": [
    "my_source_ddl = \"\"\"\n",
    "    create table source (\n",
    "        word STRING\n",
    "    ) with (\n",
    "        'connector' = 'filesystem',\n",
    "        'format' = 'csv',\n",
    "        'path' = '{}'\n",
    "    )\n",
    "\"\"\".format(\"input.csv\")"
   ]
  },
  {
   "cell_type": "code",
   "execution_count": 18,
   "id": "269aab6a-a14e-4667-ada0-609ddebecd6c",
   "metadata": {},
   "outputs": [],
   "source": [
    "my_sink_ddl = \"\"\"\n",
    "    create table sink (\n",
    "        word STRING,\n",
    "        `count` BIGINT\n",
    "    ) with (\n",
    "        'connector' = 'filesystem',\n",
    "        'format' = 'canal-json',\n",
    "        'path' = '{}'\n",
    "    )\n",
    "\"\"\".format(\"output\")"
   ]
  },
  {
   "cell_type": "code",
   "execution_count": 19,
   "id": "d78932d5-cc3b-468d-a914-0bb7754590a7",
   "metadata": {},
   "outputs": [
    {
     "data": {
      "text/plain": [
       "<pyflink.table.table_result.TableResult at 0x1685bf490>"
      ]
     },
     "execution_count": 19,
     "metadata": {},
     "output_type": "execute_result"
    }
   ],
   "source": [
    "t_env.execute_sql(my_source_ddl)"
   ]
  },
  {
   "cell_type": "code",
   "execution_count": 20,
   "id": "fc415cdf-8bcd-42e1-9210-10ff1c785deb",
   "metadata": {},
   "outputs": [
    {
     "data": {
      "text/plain": [
       "<pyflink.table.table_result.TableResult at 0x167ce3f50>"
      ]
     },
     "execution_count": 20,
     "metadata": {},
     "output_type": "execute_result"
    }
   ],
   "source": [
    "t_env.execute_sql(my_sink_ddl)"
   ]
  },
  {
   "cell_type": "code",
   "execution_count": 21,
   "id": "58638f84-9d2f-4dc7-bd83-e09716aa58d3",
   "metadata": {},
   "outputs": [],
   "source": [
    "@udtf(result_types=[DataTypes.STRING()])\n",
    "def split(line: Row):\n",
    "    for s in line[0].split():\n",
    "        yield Row(s)"
   ]
  },
  {
   "cell_type": "code",
   "execution_count": 22,
   "id": "28db2cec-f0ee-47e1-8d54-529209a1232c",
   "metadata": {},
   "outputs": [],
   "source": [
    "tab.flat_map(split).alias('word') \\\n",
    "   .group_by(col('word')) \\\n",
    "   .select(col('word'), lit(1).count) \\\n",
    "   .execute_insert('sink') \\\n",
    "   .wait()"
   ]
  },
  {
   "cell_type": "code",
   "execution_count": null,
   "id": "c2ee3adf-c5d2-42e8-84b2-eef9f80bbb81",
   "metadata": {},
   "outputs": [],
   "source": []
  }
 ],
 "metadata": {
  "kernelspec": {
   "display_name": "Python 3 (ipykernel)",
   "language": "python",
   "name": "python3"
  },
  "language_info": {
   "codemirror_mode": {
    "name": "ipython",
    "version": 3
   },
   "file_extension": ".py",
   "mimetype": "text/x-python",
   "name": "python",
   "nbconvert_exporter": "python",
   "pygments_lexer": "ipython3",
   "version": "3.11.7"
  }
 },
 "nbformat": 4,
 "nbformat_minor": 5
}
