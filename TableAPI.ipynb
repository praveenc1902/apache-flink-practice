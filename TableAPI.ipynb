{
 "cells": [
  {
   "cell_type": "code",
   "execution_count": 1,
   "id": "eb83ce27-ebed-4b5d-8d98-0231668697a4",
   "metadata": {},
   "outputs": [],
   "source": [
    "from pyflink.table import EnvironmentSettings, TableEnvironment"
   ]
  },
  {
   "cell_type": "code",
   "execution_count": 2,
   "id": "97007ef5-3bc1-4381-8083-4175fc026ad0",
   "metadata": {},
   "outputs": [
    {
     "name": "stderr",
     "output_type": "stream",
     "text": [
      "Could not find a compatible bson package.\n"
     ]
    }
   ],
   "source": [
    "env_settings =  EnvironmentSettings.in_streaming_mode()\n",
    "table_env =  TableEnvironment.create(env_settings)"
   ]
  },
  {
   "cell_type": "code",
   "execution_count": 4,
   "id": "af816bb0-acc4-4c2a-83f5-682b019d5a8b",
   "metadata": {},
   "outputs": [
    {
     "name": "stdout",
     "output_type": "stream",
     "text": [
      "+----------------------+--------------------------------+\n",
      "|                   _1 |                             _2 |\n",
      "+----------------------+--------------------------------+\n",
      "|                    1 |                            hyd |\n",
      "|                    2 |                            chn |\n",
      "|                    3 |                            mum |\n",
      "+----------------------+--------------------------------+\n",
      "3 rows in set\n"
     ]
    }
   ],
   "source": [
    "from pyflink.table import EnvironmentSettings,TableEnvironment\n",
    "env_settings = EnvironmentSettings.in_batch_mode()\n",
    "table_env = TableEnvironment.create(env_settings)\n",
    "\n",
    "table = table_env.from_elements([(1,\"hyd\"),(2,\"chn\"),(3,\"mum\")])\n",
    "table.execute().print()"
   ]
  },
  {
   "cell_type": "code",
   "execution_count": 5,
   "id": "87f518c1-ffbe-48cf-b6a8-e9059bd1eba2",
   "metadata": {},
   "outputs": [],
   "source": [
    "from pyflink.table import DataTypes"
   ]
  },
  {
   "cell_type": "code",
   "execution_count": 8,
   "id": "5fd9cb3d-4c4d-4c69-87dd-8926a7fabde6",
   "metadata": {},
   "outputs": [
    {
     "name": "stdout",
     "output_type": "stream",
     "text": [
      "+--------+--------------------------------+\n",
      "|     id |                           city |\n",
      "+--------+--------------------------------+\n",
      "|      1 |                            hyd |\n",
      "|      2 |                            chn |\n",
      "|      3 |                            mum |\n",
      "+--------+--------------------------------+\n",
      "3 rows in set\n"
     ]
    }
   ],
   "source": [
    "table = table_env.from_elements([(1,\"hyd\"),(2,\"chn\"),(3,\"mum\")],\n",
    "                               DataTypes.ROW([DataTypes.FIELD(\"id\",DataTypes.TINYINT()),\n",
    "                                             DataTypes.FIELD(\"city\",DataTypes.STRING())]) )\n",
    "table.execute().print()"
   ]
  },
  {
   "cell_type": "code",
   "execution_count": 9,
   "id": "c05fac86-55c8-4637-99a5-b023f2a58d43",
   "metadata": {},
   "outputs": [],
   "source": [
    "from pyflink.table import EnvironmentSettings, TableEnvironment\n",
    "\n",
    "# create a stream TableEnvironment\n",
    "env_settings = EnvironmentSettings.in_streaming_mode()\n",
    "table_env = TableEnvironment.create(env_settings)"
   ]
  },
  {
   "cell_type": "code",
   "execution_count": 10,
   "id": "702cced3-c280-423d-8f34-50423d20a1ef",
   "metadata": {},
   "outputs": [
    {
     "name": "stdout",
     "output_type": "stream",
     "text": [
      "+----+----------------------+--------+\n",
      "| op |                   id |   data |\n",
      "+----+----------------------+--------+\n",
      "| +I |                    1 |      4 |\n",
      "| +I |                    2 |      5 |\n",
      "| +I |                    3 |      6 |\n",
      "+----+----------------------+--------+\n",
      "3 rows in set\n"
     ]
    }
   ],
   "source": [
    "table_env.execute_sql(\"\"\"\n",
    "    CREATE TABLE random_source (\n",
    "        id BIGINT, \n",
    "        data TINYINT \n",
    "    ) WITH (\n",
    "        'connector' = 'datagen',\n",
    "        'fields.id.kind'='sequence',\n",
    "        'fields.id.start'='1',\n",
    "        'fields.id.end'='3',\n",
    "        'fields.data.kind'='sequence',\n",
    "        'fields.data.start'='4',\n",
    "        'fields.data.end'='6'\n",
    "    )\n",
    "\"\"\")\n",
    "table = table_env.from_path(\"random_source\")\n",
    "table.execute().print()"
   ]
  },
  {
   "cell_type": "code",
   "execution_count": 12,
   "id": "119f0ad1-f4cd-4ff5-8441-37dd37f365e0",
   "metadata": {},
   "outputs": [
    {
     "name": "stdout",
     "output_type": "stream",
     "text": [
      "+--------------------------------+--------------------------------+----------------------+\n",
      "|                           name |                        country |              revenue |\n",
      "+--------------------------------+--------------------------------+----------------------+\n",
      "|                           Jack |                         FRANCE |                   10 |\n",
      "|                           Rose |                        ENGLAND |                   30 |\n",
      "|                           Jack |                         FRANCE |                   20 |\n",
      "+--------------------------------+--------------------------------+----------------------+\n",
      "3 rows in set\n"
     ]
    }
   ],
   "source": [
    "from pyflink.table import EnvironmentSettings, TableEnvironment\n",
    "from pyflink.table.expressions import call, col\n",
    "\n",
    "# using batch table environment to execute the queries\n",
    "env_settings = EnvironmentSettings.in_batch_mode()\n",
    "table_env = TableEnvironment.create(env_settings)\n",
    "\n",
    "orders = table_env.from_elements([('Jack', 'FRANCE', 10), ('Rose', 'ENGLAND', 30), ('Jack', 'FRANCE', 20)],\n",
    "                                 ['name', 'country', 'revenue'])\n",
    "\n",
    "\n",
    "revenue = orders.select(col('name'),col('country'),col('revenue')).execute().print()"
   ]
  },
  {
   "cell_type": "code",
   "execution_count": 13,
   "id": "9ca400a6-51fa-45e4-b880-436ee417ecfc",
   "metadata": {},
   "outputs": [
    {
     "name": "stdout",
     "output_type": "stream",
     "text": [
      "+--------------------------------+----------------------+\n",
      "|                           name |              revenue |\n",
      "+--------------------------------+----------------------+\n",
      "|                           Jack |                   30 |\n",
      "+--------------------------------+----------------------+\n",
      "1 row in set\n"
     ]
    }
   ],
   "source": [
    "revenue = orders.select(col('name'),col('country'),col('revenue')).where(col('country')=='FRANCE')\\\n",
    ".group_by(col('name')).select(col('name'),call(\"sum\",col('revenue')).alias('revenue'))\n",
    "\n",
    "revenue.execute().print()"
   ]
  },
  {
   "cell_type": "code",
   "execution_count": 15,
   "id": "a797e5c8-635d-4b7c-8c98-83dac054a253",
   "metadata": {},
   "outputs": [],
   "source": [
    "from pyflink.table import EnvironmentSettings, TableEnvironment\n",
    "from pyflink.table import DataTypes\n",
    "from pyflink.table.udf import udf\n",
    "import pandas as pd\n",
    "\n",
    "# using batch table environment to execute the queries\n",
    "env_settings = EnvironmentSettings.in_batch_mode()\n",
    "table_env = TableEnvironment.create(env_settings)\n",
    "orders = table_env.from_elements([('Jack', 'FRANCE', 10), ('Rose', 'ENGLAND', 30), ('Jack', 'FRANCE', 20)],\n",
    "                                 ['name', 'country', 'revenue'])"
   ]
  },
  {
   "cell_type": "code",
   "execution_count": 16,
   "id": "3173f624-650f-4955-8101-e17ed34a7cd7",
   "metadata": {},
   "outputs": [],
   "source": [
    "map_function = udf(lambda x: pd.concat([x.name, x.revenue * 10], axis=1),\n",
    "                   result_type=DataTypes.ROW(\n",
    "                               [DataTypes.FIELD(\"name\", DataTypes.STRING()),\n",
    "                                DataTypes.FIELD(\"revenue\", DataTypes.BIGINT())]),\n",
    "                   func_type=\"pandas\")"
   ]
  },
  {
   "cell_type": "code",
   "execution_count": 17,
   "id": "cd7728b6-beb2-40dc-b525-5a93f1f693e2",
   "metadata": {},
   "outputs": [
    {
     "name": "stdout",
     "output_type": "stream",
     "text": [
      "+--------------------------------+----------------------+\n",
      "|                           name |              revenue |\n",
      "+--------------------------------+----------------------+\n",
      "|                           Jack |                  100 |\n",
      "|                           Rose |                  300 |\n",
      "|                           Jack |                  200 |\n",
      "+--------------------------------+----------------------+\n",
      "3 rows in set\n"
     ]
    }
   ],
   "source": [
    "orders.map(map_function).execute().print()"
   ]
  },
  {
   "cell_type": "code",
   "execution_count": 18,
   "id": "aa8f9d73-a1bc-4b75-9ce8-9df44a44eec2",
   "metadata": {},
   "outputs": [],
   "source": [
    "from pyflink.table import EnvironmentSettings, TableEnvironment\n",
    "\n",
    "# use a stream TableEnvironment to execute the queries\n",
    "env_settings = EnvironmentSettings.in_streaming_mode()\n",
    "table_env = TableEnvironment.create(env_settings)"
   ]
  },
  {
   "cell_type": "code",
   "execution_count": 33,
   "id": "bdb35393-69b0-4449-bfd3-fd9346b97064",
   "metadata": {},
   "outputs": [
    {
     "data": {
      "text/plain": [
       "<pyflink.table.table_result.TableResult at 0x15e0e0410>"
      ]
     },
     "execution_count": 33,
     "metadata": {},
     "output_type": "execute_result"
    }
   ],
   "source": [
    "table_env.execute_sql(\"\"\"\n",
    "    CREATE TABLE random_source3 (\n",
    "        id BIGINT, \n",
    "        data TINYINT\n",
    "    ) WITH (\n",
    "        'connector' = 'datagen',\n",
    "        'fields.id.kind'='sequence',\n",
    "        'fields.id.start'='1',\n",
    "        'fields.id.end'='8',\n",
    "        'fields.data.kind'='sequence',\n",
    "        'fields.data.start'='4',\n",
    "        'fields.data.end'='11'\n",
    "    )\n",
    "\"\"\")\n",
    "\n",
    "table_env.execute_sql(\"\"\"\n",
    "    CREATE TABLE print_sink2 (\n",
    "        id BIGINT, \n",
    "        data_sum TINYINT \n",
    "    ) WITH (\n",
    "        'connector' = 'datagen'\n",
    "        )\n",
    "\"\"\")"
   ]
  },
  {
   "cell_type": "code",
   "execution_count": 37,
   "id": "b4c66583-89dd-4d15-8ad4-b979331a5db7",
   "metadata": {},
   "outputs": [
    {
     "name": "stdout",
     "output_type": "stream",
     "text": [
      "4> +I[8, 11]\n",
      "8> +I[3, 6]\n",
      "1> +I[7, 10]\n",
      "2> +I[4, 7]\n",
      "6> +I[1, 4]\n",
      "7> +I[6, 9]\n",
      "6> +I[2, 5]\n",
      "2> +I[5, 8]\n"
     ]
    }
   ],
   "source": [
    "table_env.execute_sql(\"\"\"\n",
    "insert into print_sink\n",
    "select id, sum(data) from random_source group by id\n",
    "\"\"\").wait()"
   ]
  },
  {
   "cell_type": "code",
   "execution_count": 38,
   "id": "38fd4b44-c8a5-47f8-9722-79f7bbeb6ce3",
   "metadata": {},
   "outputs": [
    {
     "name": "stdout",
     "output_type": "stream",
     "text": [
      "+----+----------------------+--------+\n",
      "| op |                   id |   data |\n",
      "+----+----------------------+--------+\n",
      "| +I |                    1 |      4 |\n",
      "| +I |                    2 |      5 |\n",
      "| +I |                    3 |      6 |\n",
      "| +I |                    4 |      7 |\n",
      "| +I |                    5 |      8 |\n",
      "| +I |                    6 |      9 |\n",
      "| +I |                    7 |     10 |\n",
      "| +I |                    8 |     11 |\n",
      "+----+----------------------+--------+\n",
      "8 rows in set\n"
     ]
    }
   ],
   "source": [
    "table_env.sql_query('select * from random_source2').execute().print()"
   ]
  },
  {
   "cell_type": "code",
   "execution_count": 40,
   "id": "55bf9f86-6954-42af-801e-b1c5c8ba4c23",
   "metadata": {},
   "outputs": [
    {
     "data": {
      "text/html": [
       "<div>\n",
       "<style scoped>\n",
       "    .dataframe tbody tr th:only-of-type {\n",
       "        vertical-align: middle;\n",
       "    }\n",
       "\n",
       "    .dataframe tbody tr th {\n",
       "        vertical-align: top;\n",
       "    }\n",
       "\n",
       "    .dataframe thead th {\n",
       "        text-align: right;\n",
       "    }\n",
       "</style>\n",
       "<table border=\"1\" class=\"dataframe\">\n",
       "  <thead>\n",
       "    <tr style=\"text-align: right;\">\n",
       "      <th></th>\n",
       "      <th>id</th>\n",
       "      <th>data</th>\n",
       "    </tr>\n",
       "  </thead>\n",
       "  <tbody>\n",
       "    <tr>\n",
       "      <th>0</th>\n",
       "      <td>1</td>\n",
       "      <td>4</td>\n",
       "    </tr>\n",
       "    <tr>\n",
       "      <th>1</th>\n",
       "      <td>2</td>\n",
       "      <td>5</td>\n",
       "    </tr>\n",
       "    <tr>\n",
       "      <th>2</th>\n",
       "      <td>3</td>\n",
       "      <td>6</td>\n",
       "    </tr>\n",
       "    <tr>\n",
       "      <th>3</th>\n",
       "      <td>4</td>\n",
       "      <td>7</td>\n",
       "    </tr>\n",
       "    <tr>\n",
       "      <th>4</th>\n",
       "      <td>5</td>\n",
       "      <td>8</td>\n",
       "    </tr>\n",
       "    <tr>\n",
       "      <th>5</th>\n",
       "      <td>6</td>\n",
       "      <td>9</td>\n",
       "    </tr>\n",
       "    <tr>\n",
       "      <th>6</th>\n",
       "      <td>7</td>\n",
       "      <td>10</td>\n",
       "    </tr>\n",
       "    <tr>\n",
       "      <th>7</th>\n",
       "      <td>8</td>\n",
       "      <td>11</td>\n",
       "    </tr>\n",
       "  </tbody>\n",
       "</table>\n",
       "</div>"
      ],
      "text/plain": [
       "   id  data\n",
       "0   1     4\n",
       "1   2     5\n",
       "2   3     6\n",
       "3   4     7\n",
       "4   5     8\n",
       "5   6     9\n",
       "6   7    10\n",
       "7   8    11"
      ]
     },
     "execution_count": 40,
     "metadata": {},
     "output_type": "execute_result"
    }
   ],
   "source": [
    "table_env.sql_query('select * from random_source2').to_pandas()"
   ]
  },
  {
   "cell_type": "code",
   "execution_count": 1,
   "id": "0a7cf8d6-9ea5-4258-8d92-f3dd65153244",
   "metadata": {},
   "outputs": [
    {
     "name": "stderr",
     "output_type": "stream",
     "text": [
      "Could not find a compatible bson package.\n"
     ]
    }
   ],
   "source": [
    "from pyflink.table import *\n",
    "from pyflink.table.expressions import col\n",
    "\n",
    "# environment configuration\n",
    "t_env = TableEnvironment.create(\n",
    "    environment_settings=EnvironmentSettings.in_batch_mode())\n",
    "\n",
    "source_data_path = \"source/\"\n",
    "result_data_path = \"sink/\""
   ]
  },
  {
   "cell_type": "code",
   "execution_count": 2,
   "id": "f2b7b18f-383a-4202-b689-cd82b6656708",
   "metadata": {},
   "outputs": [
    {
     "data": {
      "text/plain": [
       "<pyflink.table.table_result.TableResult at 0x15410a6d0>"
      ]
     },
     "execution_count": 2,
     "metadata": {},
     "output_type": "execute_result"
    }
   ],
   "source": [
    "source_ddl = f\"\"\"\n",
    "        create table Orders(\n",
    "            a VARCHAR,\n",
    "            b BIGINT,\n",
    "            c BIGINT\n",
    "        ) with (\n",
    "            'connector' = 'filesystem',\n",
    "            'format' = 'csv',\n",
    "            'path' = '{source_data_path}'\n",
    "        )\n",
    "        \"\"\"\n",
    "t_env.execute_sql(source_ddl)"
   ]
  },
  {
   "cell_type": "code",
   "execution_count": 3,
   "id": "47cab937-ee9e-47f8-a731-d4de726b35d7",
   "metadata": {},
   "outputs": [
    {
     "data": {
      "text/plain": [
       "<pyflink.table.table_result.TableResult at 0x154e7a890>"
      ]
     },
     "execution_count": 3,
     "metadata": {},
     "output_type": "execute_result"
    }
   ],
   "source": [
    "sink_ddl = f\"\"\"\n",
    "    create table `Result`(\n",
    "        a VARCHAR,\n",
    "        cnt BIGINT\n",
    "    ) with (\n",
    "        'connector' = 'filesystem',\n",
    "        'format' = 'csv',\n",
    "        'path' = '{result_data_path}'\n",
    "    )\n",
    "    \"\"\"\n",
    "t_env.execute_sql(sink_ddl)"
   ]
  },
  {
   "cell_type": "code",
   "execution_count": 4,
   "id": "ec88c625-ac9c-4263-8620-da6fd2e03931",
   "metadata": {},
   "outputs": [],
   "source": [
    "orders = t_env.from_path(\"Orders\")"
   ]
  },
  {
   "cell_type": "code",
   "execution_count": 29,
   "id": "da15cba0-abab-4bdd-a3a7-b02808f82cbb",
   "metadata": {},
   "outputs": [],
   "source": [
    "from pyflink.table import EnvironmentSettings, TableEnvironment\n",
    "from pyflink.table import DataTypes\n",
    "from pyflink.table.udf import udf\n",
    "import pandas as pd\n",
    "\n",
    "# using batch table environment to execute the queries\n",
    "env_settings = EnvironmentSettings.in_batch_mode()\n",
    "table_env = TableEnvironment.create(env_settings)\n",
    "orders = table_env.from_elements([('Jack', 'FRANCE', 10), ('Rose', 'ENGLAND', 30), ('Jack', 'FRANCE', 20), ('Jack', 'FRANCE', 30)],\n",
    "                                 ['name', 'country', 'revenue'])"
   ]
  },
  {
   "cell_type": "code",
   "execution_count": 30,
   "id": "1048124e-3ac9-4b31-8665-8225d0a69fb7",
   "metadata": {},
   "outputs": [
    {
     "name": "stdout",
     "output_type": "stream",
     "text": [
      "+--------------------------------+--------------------------------+----------------------+\n",
      "|                           name |                        country |              revenue |\n",
      "+--------------------------------+--------------------------------+----------------------+\n",
      "|                           Jack |                         FRANCE |                   10 |\n",
      "|                           Rose |                        ENGLAND |                   30 |\n",
      "|                           Jack |                         FRANCE |                   20 |\n",
      "|                           Jack |                         FRANCE |                   30 |\n",
      "+--------------------------------+--------------------------------+----------------------+\n",
      "4 rows in set\n"
     ]
    }
   ],
   "source": [
    "orders.execute().print()"
   ]
  },
  {
   "cell_type": "code",
   "execution_count": 31,
   "id": "da501acb-e113-43e7-bc19-fc3626625db9",
   "metadata": {},
   "outputs": [
    {
     "name": "stdout",
     "output_type": "stream",
     "text": [
      "+--------------------------------+----------------------+\n",
      "|                        country |                  cnt |\n",
      "+--------------------------------+----------------------+\n",
      "|                        ENGLAND |                    1 |\n",
      "|                         FRANCE |                    3 |\n",
      "+--------------------------------+----------------------+\n",
      "2 rows in set\n"
     ]
    }
   ],
   "source": [
    "orders.group_by(col('country')).select(col('country'),col('revenue').count.alias('cnt')).execute().print()"
   ]
  },
  {
   "cell_type": "code",
   "execution_count": 32,
   "id": "010b79b0-ff99-4dbc-8eca-632b9e095c23",
   "metadata": {},
   "outputs": [
    {
     "name": "stdout",
     "output_type": "stream",
     "text": [
      "+--------------------------------+----------------------+--------------------------------+\n",
      "|                        country |              revenue |                           name |\n",
      "+--------------------------------+----------------------+--------------------------------+\n",
      "|                         france |                   10 |                           Jack |\n",
      "|                        england |                   30 |                           Rose |\n",
      "|                         france |                   20 |                           Jack |\n",
      "|                         france |                   30 |                           Jack |\n",
      "+--------------------------------+----------------------+--------------------------------+\n",
      "4 rows in set\n"
     ]
    }
   ],
   "source": [
    "result =  orders.filter(col('country').is_not_null & col('revenue').is_not_null ).select(col('country').lower_case.alias('country')\\\n",
    "                                                                                        ,col('revenue'),col('name')).execute().print()"
   ]
  },
  {
   "cell_type": "code",
   "execution_count": 33,
   "id": "fb70080b-89ea-42a5-aa83-3aaa766ce392",
   "metadata": {},
   "outputs": [
    {
     "name": "stdout",
     "output_type": "stream",
     "text": [
      "+--------------------------------+--------------------------------+----------------------+\n",
      "|                           name |                        country |              revenue |\n",
      "+--------------------------------+--------------------------------+----------------------+\n",
      "|                           Jack |                         FRANCE |                   10 |\n",
      "|                           Rose |                        ENGLAND |                   30 |\n",
      "|                           Jack |                         FRANCE |                   20 |\n",
      "|                           Jack |                         FRANCE |                   30 |\n",
      "+--------------------------------+--------------------------------+----------------------+\n",
      "4 rows in set\n"
     ]
    }
   ],
   "source": [
    "orders.execute().print()"
   ]
  },
  {
   "cell_type": "code",
   "execution_count": 34,
   "id": "4167d73f-f638-435c-9bd3-344702b8beb1",
   "metadata": {},
   "outputs": [
    {
     "name": "stdout",
     "output_type": "stream",
     "text": [
      "+--------------------------------+--------------------------------+----------------------+--------------------------------+\n",
      "|                           name |                        country |              revenue |                         4thcol |\n",
      "+--------------------------------+--------------------------------+----------------------+--------------------------------+\n",
      "|                           Jack |                         FRANCE |                   10 |                    FRANCEsunny |\n",
      "|                           Rose |                        ENGLAND |                   30 |                   ENGLANDsunny |\n",
      "|                           Jack |                         FRANCE |                   20 |                    FRANCEsunny |\n",
      "|                           Jack |                         FRANCE |                   30 |                    FRANCEsunny |\n",
      "+--------------------------------+--------------------------------+----------------------+--------------------------------+\n",
      "4 rows in set\n"
     ]
    }
   ],
   "source": [
    "from pyflink.table.expressions import concat\n",
    "orders = orders.add_columns(concat(col(\"country\"), 'sunny').alias('4thcol'))\n",
    "orders.execute().print()"
   ]
  },
  {
   "cell_type": "code",
   "execution_count": 36,
   "id": "102338c1-f4c4-42c9-9aa0-a77e9114649a",
   "metadata": {},
   "outputs": [
    {
     "name": "stdout",
     "output_type": "stream",
     "text": [
      "+--------------------------------+--------------------------------+----------------------+--------------------------------+\n",
      "|                           name |                        country |              revenue |                         4thcol |\n",
      "+--------------------------------+--------------------------------+----------------------+--------------------------------+\n",
      "|                           Jack |                         FRANCE |                   10 |               FRANCEsunnyrainy |\n",
      "|                           Rose |                        ENGLAND |                   30 |              ENGLANDsunnyrainy |\n",
      "|                           Jack |                         FRANCE |                   20 |               FRANCEsunnyrainy |\n",
      "|                           Jack |                         FRANCE |                   30 |               FRANCEsunnyrainy |\n",
      "+--------------------------------+--------------------------------+----------------------+--------------------------------+\n",
      "4 rows in set\n"
     ]
    }
   ],
   "source": [
    "orders.add_or_replace_columns(concat(col(\"4thcol\"), 'rainy').alias('4thcol')).execute().print()"
   ]
  },
  {
   "cell_type": "code",
   "execution_count": 38,
   "id": "e345012e-1142-4d6e-b55e-7398aeeba7e7",
   "metadata": {},
   "outputs": [
    {
     "name": "stdout",
     "output_type": "stream",
     "text": [
      "+--------------------------------+--------------------------------+----------------------+\n",
      "|                           name |                        country |              revenue |\n",
      "+--------------------------------+--------------------------------+----------------------+\n",
      "|                           Jack |                         FRANCE |                   10 |\n",
      "|                           Rose |                        ENGLAND |                   30 |\n",
      "|                           Jack |                         FRANCE |                   20 |\n",
      "|                           Jack |                         FRANCE |                   30 |\n",
      "+--------------------------------+--------------------------------+----------------------+\n",
      "4 rows in set\n"
     ]
    }
   ],
   "source": [
    "orders =  orders.drop_columns(col('4thcol'))\n",
    "orders.execute().print()"
   ]
  },
  {
   "cell_type": "code",
   "execution_count": 42,
   "id": "b04099b7-fac7-4d5b-8281-d06fefc2ce2d",
   "metadata": {},
   "outputs": [],
   "source": [
    "orders1 = orders.select(col('name').alias('name1'),col('country').alias('country1'),col('revenue').alias('revenue1'))\n",
    "orders2 = orders"
   ]
  },
  {
   "cell_type": "code",
   "execution_count": 43,
   "id": "777d7d03-dee6-4234-b183-67d0340a14ec",
   "metadata": {},
   "outputs": [
    {
     "name": "stdout",
     "output_type": "stream",
     "text": [
      "+--------------------------------+--------------------------------+--------------------------------+--------------------------------+\n",
      "|                           name |                          name1 |                        country |                       country1 |\n",
      "+--------------------------------+--------------------------------+--------------------------------+--------------------------------+\n",
      "|                           Jack |                           Jack |                         FRANCE |                         FRANCE |\n",
      "|                           Jack |                           Jack |                         FRANCE |                         FRANCE |\n",
      "|                           Jack |                           Jack |                         FRANCE |                         FRANCE |\n",
      "|                           Jack |                           Jack |                         FRANCE |                         FRANCE |\n",
      "|                           Jack |                           Jack |                         FRANCE |                         FRANCE |\n",
      "|                           Jack |                           Jack |                         FRANCE |                         FRANCE |\n",
      "|                           Jack |                           Jack |                         FRANCE |                         FRANCE |\n",
      "|                           Jack |                           Jack |                         FRANCE |                         FRANCE |\n",
      "|                           Jack |                           Jack |                         FRANCE |                         FRANCE |\n",
      "|                           Rose |                           Rose |                        ENGLAND |                        ENGLAND |\n",
      "+--------------------------------+--------------------------------+--------------------------------+--------------------------------+\n",
      "10 rows in set\n"
     ]
    }
   ],
   "source": [
    "orders1.join(orders2).where(col('name1')==col('name')).select(col('name'),col('name1'),col('country'),col('country1')).execute().print()"
   ]
  },
  {
   "cell_type": "code",
   "execution_count": 44,
   "id": "97bb0721-51b9-41bd-96f0-d8666decf305",
   "metadata": {},
   "outputs": [
    {
     "name": "stdout",
     "output_type": "stream",
     "text": [
      "+--------------------------------+--------------------------------+--------------------------------+--------------------------------+\n",
      "|                           name |                          name1 |                        country |                       country1 |\n",
      "+--------------------------------+--------------------------------+--------------------------------+--------------------------------+\n",
      "|                           Jack |                           Jack |                         FRANCE |                         FRANCE |\n",
      "|                           Jack |                           Jack |                         FRANCE |                         FRANCE |\n",
      "|                           Jack |                           Jack |                         FRANCE |                         FRANCE |\n",
      "|                           Jack |                           Jack |                         FRANCE |                         FRANCE |\n",
      "|                           Jack |                           Jack |                         FRANCE |                         FRANCE |\n",
      "|                           Jack |                           Jack |                         FRANCE |                         FRANCE |\n",
      "|                           Jack |                           Jack |                         FRANCE |                         FRANCE |\n",
      "|                           Jack |                           Jack |                         FRANCE |                         FRANCE |\n",
      "|                           Jack |                           Jack |                         FRANCE |                         FRANCE |\n",
      "|                           Rose |                           Rose |                        ENGLAND |                        ENGLAND |\n",
      "+--------------------------------+--------------------------------+--------------------------------+--------------------------------+\n",
      "10 rows in set\n"
     ]
    }
   ],
   "source": [
    "orders1.left_outer_join(orders2).where(col('name1')==col('name')).select(col('name'),col('name1'),col('country'),col('country1')).execute().print()"
   ]
  },
  {
   "cell_type": "code",
   "execution_count": 46,
   "id": "eab1f750-5b03-45bc-9d0a-03985da21814",
   "metadata": {},
   "outputs": [
    {
     "ename": "TypeError",
     "evalue": "Table.right_outer_join() missing 1 required positional argument: 'join_predicate'",
     "output_type": "error",
     "traceback": [
      "\u001b[0;31m---------------------------------------------------------------------------\u001b[0m",
      "\u001b[0;31mTypeError\u001b[0m                                 Traceback (most recent call last)",
      "Cell \u001b[0;32mIn[46], line 1\u001b[0m\n\u001b[0;32m----> 1\u001b[0m orders1\u001b[38;5;241m.\u001b[39mright_outer_join(orders2)\u001b[38;5;241m.\u001b[39mwhere(col(\u001b[38;5;124m'\u001b[39m\u001b[38;5;124mname1\u001b[39m\u001b[38;5;124m'\u001b[39m)\u001b[38;5;241m==\u001b[39mcol(\u001b[38;5;124m'\u001b[39m\u001b[38;5;124mname\u001b[39m\u001b[38;5;124m'\u001b[39m))\u001b[38;5;241m.\u001b[39mselect(col(\u001b[38;5;124m'\u001b[39m\u001b[38;5;124mname\u001b[39m\u001b[38;5;124m'\u001b[39m),col(\u001b[38;5;124m'\u001b[39m\u001b[38;5;124mname1\u001b[39m\u001b[38;5;124m'\u001b[39m),col(\u001b[38;5;124m'\u001b[39m\u001b[38;5;124mcountry\u001b[39m\u001b[38;5;124m'\u001b[39m),col(\u001b[38;5;124m'\u001b[39m\u001b[38;5;124mcountry1\u001b[39m\u001b[38;5;124m'\u001b[39m))\u001b[38;5;241m.\u001b[39mexecute()\u001b[38;5;241m.\u001b[39mprint()\n",
      "\u001b[0;31mTypeError\u001b[0m: Table.right_outer_join() missing 1 required positional argument: 'join_predicate'"
     ]
    }
   ],
   "source": [
    "orders1.right_outer_join(orders2).where(col('name1')==col('name')).select(col('name'),col('name1'),col('country'),col('country1')).execute().print()"
   ]
  },
  {
   "cell_type": "code",
   "execution_count": null,
   "id": "6c18ecd1-6df4-4252-b215-b04b69e40018",
   "metadata": {},
   "outputs": [],
   "source": []
  }
 ],
 "metadata": {
  "kernelspec": {
   "display_name": "Python 3 (ipykernel)",
   "language": "python",
   "name": "python3"
  },
  "language_info": {
   "codemirror_mode": {
    "name": "ipython",
    "version": 3
   },
   "file_extension": ".py",
   "mimetype": "text/x-python",
   "name": "python",
   "nbconvert_exporter": "python",
   "pygments_lexer": "ipython3",
   "version": "3.11.7"
  }
 },
 "nbformat": 4,
 "nbformat_minor": 5
}
