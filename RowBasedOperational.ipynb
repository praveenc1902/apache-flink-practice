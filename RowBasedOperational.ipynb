{
 "cells": [
  {
   "cell_type": "code",
   "execution_count": 1,
   "id": "f824908e-0bf3-4878-9198-54c778b6b149",
   "metadata": {},
   "outputs": [
    {
     "name": "stderr",
     "output_type": "stream",
     "text": [
      "Could not find a compatible bson package.\n"
     ]
    }
   ],
   "source": [
    "from pyflink.common import Row\n",
    "from pyflink.table import EnvironmentSettings, TableEnvironment\n",
    "from pyflink.table.expressions import col\n",
    "from pyflink.table.udf import udf\n",
    "\n",
    "env_settings = EnvironmentSettings.in_batch_mode()\n",
    "table_env = TableEnvironment.create(env_settings)\n",
    "\n",
    "table = table_env.from_elements([(1, 'Hi'), (2, 'Hello')], ['id', 'data'])\n"
   ]
  },
  {
   "cell_type": "code",
   "execution_count": 5,
   "id": "ac6f280f-3730-480f-88aa-7f2c1b51fedb",
   "metadata": {},
   "outputs": [
    {
     "name": "stdout",
     "output_type": "stream",
     "text": [
      "+----------------------+--------------------------------+\n",
      "|                   id |                           data |\n",
      "+----------------------+--------------------------------+\n",
      "|                    1 |                             Hi |\n",
      "|                    2 |                          Hello |\n",
      "+----------------------+--------------------------------+\n",
      "2 rows in set\n"
     ]
    }
   ],
   "source": [
    "table.execute().print()"
   ]
  },
  {
   "cell_type": "code",
   "execution_count": 6,
   "id": "8afe2663-ca31-4e7e-86d3-38c2dc80c5bd",
   "metadata": {},
   "outputs": [],
   "source": [
    "@udf(result_type='ROW<id BIGINT, data STRING>')\n",
    "def func1(id:int, data:str) -> Row:\n",
    "    return Row(id, data*2)"
   ]
  },
  {
   "cell_type": "code",
   "execution_count": 8,
   "id": "974f1434-0fb1-46d6-ab9d-138a1b417388",
   "metadata": {},
   "outputs": [
    {
     "name": "stdout",
     "output_type": "stream",
     "text": [
      "+----------------------+--------------------------------+\n",
      "|                   id |                           data |\n",
      "+----------------------+--------------------------------+\n",
      "|                    1 |                           HiHi |\n",
      "|                    2 |                     HelloHello |\n",
      "+----------------------+--------------------------------+\n",
      "2 rows in set\n"
     ]
    }
   ],
   "source": [
    "table.map(func1(col('id'),col('data'))).execute().print()"
   ]
  },
  {
   "cell_type": "code",
   "execution_count": 19,
   "id": "b13c3b5c-f2b6-4cbc-9e0c-387f0fc912f5",
   "metadata": {},
   "outputs": [],
   "source": [
    "from pyflink.table.udf import udtf\n",
    "@udtf(result_types=['INT', 'ARRAY'])\n",
    "def func2(id:int, data:str) -> Row:\n",
    "    return Row(id, data.split('H'))"
   ]
  },
  {
   "cell_type": "code",
   "execution_count": 21,
   "id": "94461d6b-d1e0-4834-9345-fc87d0a3e854",
   "metadata": {},
   "outputs": [
    {
     "ename": "Py4JJavaError",
     "evalue": "An error occurred while calling o47.flatMap.\n: org.apache.flink.table.api.ValidationException: Could not parse type at position 19: <BEGIN_SUBTYPE> expected but was <END_SUBTYPE>.\n Input type string: Row<f0 INT,f1 ARRAY>\n\tat org.apache.flink.table.types.logical.utils.LogicalTypeParser$TokenParser.parsingError(LogicalTypeParser.java:403)\n\tat org.apache.flink.table.types.logical.utils.LogicalTypeParser$TokenParser.parsingError(LogicalTypeParser.java:410)\n\tat org.apache.flink.table.types.logical.utils.LogicalTypeParser$TokenParser.nextToken(LogicalTypeParser.java:449)\n\tat org.apache.flink.table.types.logical.utils.LogicalTypeParser$TokenParser.parseArrayType(LogicalTypeParser.java:849)\n\tat org.apache.flink.table.types.logical.utils.LogicalTypeParser$TokenParser.parseTypeByKeyword(LogicalTypeParser.java:570)\n\tat org.apache.flink.table.types.logical.utils.LogicalTypeParser$TokenParser.parseTypeWithNullability(LogicalTypeParser.java:510)\n\tat org.apache.flink.table.types.logical.utils.LogicalTypeParser$TokenParser.parseRowFields(LogicalTypeParser.java:897)\n\tat org.apache.flink.table.types.logical.utils.LogicalTypeParser$TokenParser.parseRowType(LogicalTypeParser.java:880)\n\tat org.apache.flink.table.types.logical.utils.LogicalTypeParser$TokenParser.parseTypeByKeyword(LogicalTypeParser.java:576)\n\tat org.apache.flink.table.types.logical.utils.LogicalTypeParser$TokenParser.parseTypeWithNullability(LogicalTypeParser.java:510)\n\tat org.apache.flink.table.types.logical.utils.LogicalTypeParser$TokenParser.parseTokens(LogicalTypeParser.java:386)\n\tat org.apache.flink.table.types.logical.utils.LogicalTypeParser$TokenParser.access$000(LogicalTypeParser.java:365)\n\tat org.apache.flink.table.types.logical.utils.LogicalTypeParser.parse(LogicalTypeParser.java:106)\n\tat org.apache.flink.table.catalog.DataTypeFactoryImpl.createLogicalType(DataTypeFactoryImpl.java:112)\n\tat org.apache.flink.table.catalog.DataTypeFactoryImpl.createDataType(DataTypeFactoryImpl.java:79)\n\tat org.apache.flink.table.functions.python.PythonTableFunction.getTypeInference(PythonTableFunction.java:176)\n\tat org.apache.flink.table.expressions.resolver.rules.ResolveCallByArgumentsRule$ResolvingCallVisitor.getOptionalTypeInference(ResolveCallByArgumentsRule.java:242)\n\tat org.apache.flink.table.expressions.resolver.rules.ResolveCallByArgumentsRule$ResolvingCallVisitor.visit(ResolveCallByArgumentsRule.java:124)\n\tat org.apache.flink.table.expressions.resolver.rules.ResolveCallByArgumentsRule$ResolvingCallVisitor.visit(ResolveCallByArgumentsRule.java:97)\n\tat org.apache.flink.table.expressions.ApiExpressionVisitor.visit(ApiExpressionVisitor.java:37)\n\tat org.apache.flink.table.expressions.UnresolvedCallExpression.accept(UnresolvedCallExpression.java:97)\n\tat org.apache.flink.table.expressions.resolver.rules.ResolveCallByArgumentsRule.lambda$apply$0(ResolveCallByArgumentsRule.java:91)\n\tat java.util.stream.ReferencePipeline$7$1.accept(ReferencePipeline.java:267)\n\tat java.util.ArrayList$ArrayListSpliterator.forEachRemaining(ArrayList.java:1384)\n\tat java.util.stream.AbstractPipeline.copyInto(AbstractPipeline.java:482)\n\tat java.util.stream.AbstractPipeline.wrapAndCopyInto(AbstractPipeline.java:472)\n\tat java.util.stream.ReduceOps$ReduceOp.evaluateSequential(ReduceOps.java:708)\n\tat java.util.stream.AbstractPipeline.evaluate(AbstractPipeline.java:234)\n\tat java.util.stream.ReferencePipeline.collect(ReferencePipeline.java:499)\n\tat org.apache.flink.table.expressions.resolver.rules.ResolveCallByArgumentsRule.apply(ResolveCallByArgumentsRule.java:92)\n\tat org.apache.flink.table.expressions.resolver.ExpressionResolver.lambda$null$2(ExpressionResolver.java:247)\n\tat java.util.function.Function.lambda$andThen$1(Function.java:88)\n\tat org.apache.flink.table.expressions.resolver.ExpressionResolver.resolve(ExpressionResolver.java:210)\n\tat org.apache.flink.table.operations.utils.OperationTreeBuilder.resolveSingleExpression(OperationTreeBuilder.java:410)\n\tat org.apache.flink.table.operations.utils.OperationTreeBuilder.flatMap(OperationTreeBuilder.java:499)\n\tat org.apache.flink.table.api.internal.TableImpl.flatMap(TableImpl.java:410)\n\tat sun.reflect.NativeMethodAccessorImpl.invoke0(Native Method)\n\tat sun.reflect.NativeMethodAccessorImpl.invoke(NativeMethodAccessorImpl.java:62)\n\tat sun.reflect.DelegatingMethodAccessorImpl.invoke(DelegatingMethodAccessorImpl.java:43)\n\tat java.lang.reflect.Method.invoke(Method.java:498)\n\tat org.apache.flink.api.python.shaded.py4j.reflection.MethodInvoker.invoke(MethodInvoker.java:244)\n\tat org.apache.flink.api.python.shaded.py4j.reflection.ReflectionEngine.invoke(ReflectionEngine.java:374)\n\tat org.apache.flink.api.python.shaded.py4j.Gateway.invoke(Gateway.java:282)\n\tat org.apache.flink.api.python.shaded.py4j.commands.AbstractCommand.invokeMethod(AbstractCommand.java:132)\n\tat org.apache.flink.api.python.shaded.py4j.commands.CallCommand.execute(CallCommand.java:79)\n\tat org.apache.flink.api.python.shaded.py4j.GatewayConnection.run(GatewayConnection.java:238)\n\tat java.lang.Thread.run(Thread.java:750)\n",
     "output_type": "error",
     "traceback": [
      "\u001b[0;31m---------------------------------------------------------------------------\u001b[0m",
      "\u001b[0;31mPy4JJavaError\u001b[0m                             Traceback (most recent call last)",
      "Cell \u001b[0;32mIn[21], line 1\u001b[0m\n\u001b[0;32m----> 1\u001b[0m table\u001b[38;5;241m.\u001b[39mflat_map(func2(col(\u001b[38;5;124m'\u001b[39m\u001b[38;5;124mid\u001b[39m\u001b[38;5;124m'\u001b[39m),col(\u001b[38;5;124m'\u001b[39m\u001b[38;5;124mdata\u001b[39m\u001b[38;5;124m'\u001b[39m)))\u001b[38;5;241m.\u001b[39mexecute()\u001b[38;5;241m.\u001b[39mprint()\n",
      "File \u001b[0;32m/opt/anaconda3/lib/python3.11/site-packages/pyflink/table/table.py:815\u001b[0m, in \u001b[0;36mTable.flat_map\u001b[0;34m(self, func)\u001b[0m\n\u001b[1;32m    791\u001b[0m \u001b[38;5;250m\u001b[39m\u001b[38;5;124;03m\"\"\"\u001b[39;00m\n\u001b[1;32m    792\u001b[0m \u001b[38;5;124;03mPerforms a flatMap operation with a user-defined table function.\u001b[39;00m\n\u001b[1;32m    793\u001b[0m \n\u001b[0;32m   (...)\u001b[0m\n\u001b[1;32m    812\u001b[0m \u001b[38;5;124;03m.. versionadded:: 1.13.0\u001b[39;00m\n\u001b[1;32m    813\u001b[0m \u001b[38;5;124;03m\"\"\"\u001b[39;00m\n\u001b[1;32m    814\u001b[0m \u001b[38;5;28;01mif\u001b[39;00m \u001b[38;5;28misinstance\u001b[39m(func, Expression):\n\u001b[0;32m--> 815\u001b[0m     \u001b[38;5;28;01mreturn\u001b[39;00m Table(\u001b[38;5;28mself\u001b[39m\u001b[38;5;241m.\u001b[39m_j_table\u001b[38;5;241m.\u001b[39mflatMap(func\u001b[38;5;241m.\u001b[39m_j_expr), \u001b[38;5;28mself\u001b[39m\u001b[38;5;241m.\u001b[39m_t_env)\n\u001b[1;32m    816\u001b[0m \u001b[38;5;28;01melse\u001b[39;00m:\n\u001b[1;32m    817\u001b[0m     func\u001b[38;5;241m.\u001b[39m_set_takes_row_as_input()\n",
      "File \u001b[0;32m/opt/anaconda3/lib/python3.11/site-packages/py4j/java_gateway.py:1322\u001b[0m, in \u001b[0;36mJavaMember.__call__\u001b[0;34m(self, *args)\u001b[0m\n\u001b[1;32m   1316\u001b[0m command \u001b[38;5;241m=\u001b[39m proto\u001b[38;5;241m.\u001b[39mCALL_COMMAND_NAME \u001b[38;5;241m+\u001b[39m\\\n\u001b[1;32m   1317\u001b[0m     \u001b[38;5;28mself\u001b[39m\u001b[38;5;241m.\u001b[39mcommand_header \u001b[38;5;241m+\u001b[39m\\\n\u001b[1;32m   1318\u001b[0m     args_command \u001b[38;5;241m+\u001b[39m\\\n\u001b[1;32m   1319\u001b[0m     proto\u001b[38;5;241m.\u001b[39mEND_COMMAND_PART\n\u001b[1;32m   1321\u001b[0m answer \u001b[38;5;241m=\u001b[39m \u001b[38;5;28mself\u001b[39m\u001b[38;5;241m.\u001b[39mgateway_client\u001b[38;5;241m.\u001b[39msend_command(command)\n\u001b[0;32m-> 1322\u001b[0m return_value \u001b[38;5;241m=\u001b[39m get_return_value(\n\u001b[1;32m   1323\u001b[0m     answer, \u001b[38;5;28mself\u001b[39m\u001b[38;5;241m.\u001b[39mgateway_client, \u001b[38;5;28mself\u001b[39m\u001b[38;5;241m.\u001b[39mtarget_id, \u001b[38;5;28mself\u001b[39m\u001b[38;5;241m.\u001b[39mname)\n\u001b[1;32m   1325\u001b[0m \u001b[38;5;28;01mfor\u001b[39;00m temp_arg \u001b[38;5;129;01min\u001b[39;00m temp_args:\n\u001b[1;32m   1326\u001b[0m     \u001b[38;5;28;01mif\u001b[39;00m \u001b[38;5;28mhasattr\u001b[39m(temp_arg, \u001b[38;5;124m\"\u001b[39m\u001b[38;5;124m_detach\u001b[39m\u001b[38;5;124m\"\u001b[39m):\n",
      "File \u001b[0;32m/opt/anaconda3/lib/python3.11/site-packages/pyflink/util/exceptions.py:146\u001b[0m, in \u001b[0;36mcapture_java_exception.<locals>.deco\u001b[0;34m(*a, **kw)\u001b[0m\n\u001b[1;32m    144\u001b[0m \u001b[38;5;28;01mdef\u001b[39;00m \u001b[38;5;21mdeco\u001b[39m(\u001b[38;5;241m*\u001b[39ma, \u001b[38;5;241m*\u001b[39m\u001b[38;5;241m*\u001b[39mkw):\n\u001b[1;32m    145\u001b[0m     \u001b[38;5;28;01mtry\u001b[39;00m:\n\u001b[0;32m--> 146\u001b[0m         \u001b[38;5;28;01mreturn\u001b[39;00m f(\u001b[38;5;241m*\u001b[39ma, \u001b[38;5;241m*\u001b[39m\u001b[38;5;241m*\u001b[39mkw)\n\u001b[1;32m    147\u001b[0m     \u001b[38;5;28;01mexcept\u001b[39;00m Py4JJavaError \u001b[38;5;28;01mas\u001b[39;00m e:\n\u001b[1;32m    148\u001b[0m         \u001b[38;5;28;01mfrom\u001b[39;00m \u001b[38;5;21;01mpyflink\u001b[39;00m\u001b[38;5;21;01m.\u001b[39;00m\u001b[38;5;21;01mjava_gateway\u001b[39;00m \u001b[38;5;28;01mimport\u001b[39;00m get_gateway\n",
      "File \u001b[0;32m/opt/anaconda3/lib/python3.11/site-packages/py4j/protocol.py:326\u001b[0m, in \u001b[0;36mget_return_value\u001b[0;34m(answer, gateway_client, target_id, name)\u001b[0m\n\u001b[1;32m    324\u001b[0m value \u001b[38;5;241m=\u001b[39m OUTPUT_CONVERTER[\u001b[38;5;28mtype\u001b[39m](answer[\u001b[38;5;241m2\u001b[39m:], gateway_client)\n\u001b[1;32m    325\u001b[0m \u001b[38;5;28;01mif\u001b[39;00m answer[\u001b[38;5;241m1\u001b[39m] \u001b[38;5;241m==\u001b[39m REFERENCE_TYPE:\n\u001b[0;32m--> 326\u001b[0m     \u001b[38;5;28;01mraise\u001b[39;00m Py4JJavaError(\n\u001b[1;32m    327\u001b[0m         \u001b[38;5;124m\"\u001b[39m\u001b[38;5;124mAn error occurred while calling \u001b[39m\u001b[38;5;132;01m{0}\u001b[39;00m\u001b[38;5;132;01m{1}\u001b[39;00m\u001b[38;5;132;01m{2}\u001b[39;00m\u001b[38;5;124m.\u001b[39m\u001b[38;5;130;01m\\n\u001b[39;00m\u001b[38;5;124m\"\u001b[39m\u001b[38;5;241m.\u001b[39m\n\u001b[1;32m    328\u001b[0m         \u001b[38;5;28mformat\u001b[39m(target_id, \u001b[38;5;124m\"\u001b[39m\u001b[38;5;124m.\u001b[39m\u001b[38;5;124m\"\u001b[39m, name), value)\n\u001b[1;32m    329\u001b[0m \u001b[38;5;28;01melse\u001b[39;00m:\n\u001b[1;32m    330\u001b[0m     \u001b[38;5;28;01mraise\u001b[39;00m Py4JError(\n\u001b[1;32m    331\u001b[0m         \u001b[38;5;124m\"\u001b[39m\u001b[38;5;124mAn error occurred while calling \u001b[39m\u001b[38;5;132;01m{0}\u001b[39;00m\u001b[38;5;132;01m{1}\u001b[39;00m\u001b[38;5;132;01m{2}\u001b[39;00m\u001b[38;5;124m. Trace:\u001b[39m\u001b[38;5;130;01m\\n\u001b[39;00m\u001b[38;5;132;01m{3}\u001b[39;00m\u001b[38;5;130;01m\\n\u001b[39;00m\u001b[38;5;124m\"\u001b[39m\u001b[38;5;241m.\u001b[39m\n\u001b[1;32m    332\u001b[0m         \u001b[38;5;28mformat\u001b[39m(target_id, \u001b[38;5;124m\"\u001b[39m\u001b[38;5;124m.\u001b[39m\u001b[38;5;124m\"\u001b[39m, name, value))\n",
      "\u001b[0;31mPy4JJavaError\u001b[0m: An error occurred while calling o47.flatMap.\n: org.apache.flink.table.api.ValidationException: Could not parse type at position 19: <BEGIN_SUBTYPE> expected but was <END_SUBTYPE>.\n Input type string: Row<f0 INT,f1 ARRAY>\n\tat org.apache.flink.table.types.logical.utils.LogicalTypeParser$TokenParser.parsingError(LogicalTypeParser.java:403)\n\tat org.apache.flink.table.types.logical.utils.LogicalTypeParser$TokenParser.parsingError(LogicalTypeParser.java:410)\n\tat org.apache.flink.table.types.logical.utils.LogicalTypeParser$TokenParser.nextToken(LogicalTypeParser.java:449)\n\tat org.apache.flink.table.types.logical.utils.LogicalTypeParser$TokenParser.parseArrayType(LogicalTypeParser.java:849)\n\tat org.apache.flink.table.types.logical.utils.LogicalTypeParser$TokenParser.parseTypeByKeyword(LogicalTypeParser.java:570)\n\tat org.apache.flink.table.types.logical.utils.LogicalTypeParser$TokenParser.parseTypeWithNullability(LogicalTypeParser.java:510)\n\tat org.apache.flink.table.types.logical.utils.LogicalTypeParser$TokenParser.parseRowFields(LogicalTypeParser.java:897)\n\tat org.apache.flink.table.types.logical.utils.LogicalTypeParser$TokenParser.parseRowType(LogicalTypeParser.java:880)\n\tat org.apache.flink.table.types.logical.utils.LogicalTypeParser$TokenParser.parseTypeByKeyword(LogicalTypeParser.java:576)\n\tat org.apache.flink.table.types.logical.utils.LogicalTypeParser$TokenParser.parseTypeWithNullability(LogicalTypeParser.java:510)\n\tat org.apache.flink.table.types.logical.utils.LogicalTypeParser$TokenParser.parseTokens(LogicalTypeParser.java:386)\n\tat org.apache.flink.table.types.logical.utils.LogicalTypeParser$TokenParser.access$000(LogicalTypeParser.java:365)\n\tat org.apache.flink.table.types.logical.utils.LogicalTypeParser.parse(LogicalTypeParser.java:106)\n\tat org.apache.flink.table.catalog.DataTypeFactoryImpl.createLogicalType(DataTypeFactoryImpl.java:112)\n\tat org.apache.flink.table.catalog.DataTypeFactoryImpl.createDataType(DataTypeFactoryImpl.java:79)\n\tat org.apache.flink.table.functions.python.PythonTableFunction.getTypeInference(PythonTableFunction.java:176)\n\tat org.apache.flink.table.expressions.resolver.rules.ResolveCallByArgumentsRule$ResolvingCallVisitor.getOptionalTypeInference(ResolveCallByArgumentsRule.java:242)\n\tat org.apache.flink.table.expressions.resolver.rules.ResolveCallByArgumentsRule$ResolvingCallVisitor.visit(ResolveCallByArgumentsRule.java:124)\n\tat org.apache.flink.table.expressions.resolver.rules.ResolveCallByArgumentsRule$ResolvingCallVisitor.visit(ResolveCallByArgumentsRule.java:97)\n\tat org.apache.flink.table.expressions.ApiExpressionVisitor.visit(ApiExpressionVisitor.java:37)\n\tat org.apache.flink.table.expressions.UnresolvedCallExpression.accept(UnresolvedCallExpression.java:97)\n\tat org.apache.flink.table.expressions.resolver.rules.ResolveCallByArgumentsRule.lambda$apply$0(ResolveCallByArgumentsRule.java:91)\n\tat java.util.stream.ReferencePipeline$7$1.accept(ReferencePipeline.java:267)\n\tat java.util.ArrayList$ArrayListSpliterator.forEachRemaining(ArrayList.java:1384)\n\tat java.util.stream.AbstractPipeline.copyInto(AbstractPipeline.java:482)\n\tat java.util.stream.AbstractPipeline.wrapAndCopyInto(AbstractPipeline.java:472)\n\tat java.util.stream.ReduceOps$ReduceOp.evaluateSequential(ReduceOps.java:708)\n\tat java.util.stream.AbstractPipeline.evaluate(AbstractPipeline.java:234)\n\tat java.util.stream.ReferencePipeline.collect(ReferencePipeline.java:499)\n\tat org.apache.flink.table.expressions.resolver.rules.ResolveCallByArgumentsRule.apply(ResolveCallByArgumentsRule.java:92)\n\tat org.apache.flink.table.expressions.resolver.ExpressionResolver.lambda$null$2(ExpressionResolver.java:247)\n\tat java.util.function.Function.lambda$andThen$1(Function.java:88)\n\tat org.apache.flink.table.expressions.resolver.ExpressionResolver.resolve(ExpressionResolver.java:210)\n\tat org.apache.flink.table.operations.utils.OperationTreeBuilder.resolveSingleExpression(OperationTreeBuilder.java:410)\n\tat org.apache.flink.table.operations.utils.OperationTreeBuilder.flatMap(OperationTreeBuilder.java:499)\n\tat org.apache.flink.table.api.internal.TableImpl.flatMap(TableImpl.java:410)\n\tat sun.reflect.NativeMethodAccessorImpl.invoke0(Native Method)\n\tat sun.reflect.NativeMethodAccessorImpl.invoke(NativeMethodAccessorImpl.java:62)\n\tat sun.reflect.DelegatingMethodAccessorImpl.invoke(DelegatingMethodAccessorImpl.java:43)\n\tat java.lang.reflect.Method.invoke(Method.java:498)\n\tat org.apache.flink.api.python.shaded.py4j.reflection.MethodInvoker.invoke(MethodInvoker.java:244)\n\tat org.apache.flink.api.python.shaded.py4j.reflection.ReflectionEngine.invoke(ReflectionEngine.java:374)\n\tat org.apache.flink.api.python.shaded.py4j.Gateway.invoke(Gateway.java:282)\n\tat org.apache.flink.api.python.shaded.py4j.commands.AbstractCommand.invokeMethod(AbstractCommand.java:132)\n\tat org.apache.flink.api.python.shaded.py4j.commands.CallCommand.execute(CallCommand.java:79)\n\tat org.apache.flink.api.python.shaded.py4j.GatewayConnection.run(GatewayConnection.java:238)\n\tat java.lang.Thread.run(Thread.java:750)\n"
     ]
    }
   ],
   "source": [
    "table.flat_map(func2(col('id'),col('data'))).execute().print()"
   ]
  },
  {
   "cell_type": "code",
   "execution_count": null,
   "id": "091a32f3-50c1-488e-a03d-239fd25763b6",
   "metadata": {},
   "outputs": [],
   "source": []
  }
 ],
 "metadata": {
  "kernelspec": {
   "display_name": "Python 3 (ipykernel)",
   "language": "python",
   "name": "python3"
  },
  "language_info": {
   "codemirror_mode": {
    "name": "ipython",
    "version": 3
   },
   "file_extension": ".py",
   "mimetype": "text/x-python",
   "name": "python",
   "nbconvert_exporter": "python",
   "pygments_lexer": "ipython3",
   "version": "3.11.7"
  }
 },
 "nbformat": 4,
 "nbformat_minor": 5
}
