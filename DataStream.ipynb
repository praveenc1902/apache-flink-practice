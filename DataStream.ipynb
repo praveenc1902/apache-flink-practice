{
 "cells": [
  {
   "cell_type": "code",
   "execution_count": 1,
   "id": "552d4787-a3ab-411f-8bfc-8d966b6390be",
   "metadata": {},
   "outputs": [],
   "source": [
    "import argparse\n",
    "import logging\n",
    "import sys\n",
    "\n",
    "from pyflink.common import WatermarkStrategy, Encoder, Types\n",
    "from pyflink.datastream import StreamExecutionEnvironment, RuntimeExecutionMode\n",
    "from pyflink.datastream.connectors.file_system import FileSource, StreamFormat, FileSink, OutputFileConfig, RollingPolicy\n"
   ]
  },
  {
   "cell_type": "code",
   "execution_count": 2,
   "id": "2b9312bc-296f-4377-ac39-8ea64120bdaf",
   "metadata": {},
   "outputs": [
    {
     "name": "stderr",
     "output_type": "stream",
     "text": [
      "Could not find a compatible bson package.\n"
     ]
    },
    {
     "data": {
      "text/plain": [
       "<pyflink.datastream.stream_execution_environment.StreamExecutionEnvironment at 0x105e42810>"
      ]
     },
     "execution_count": 2,
     "metadata": {},
     "output_type": "execute_result"
    }
   ],
   "source": [
    "env = StreamExecutionEnvironment.get_execution_environment()\n",
    "env.set_runtime_mode(RuntimeExecutionMode.BATCH)\n",
    "env.set_parallelism(1)"
   ]
  },
  {
   "cell_type": "code",
   "execution_count": 3,
   "id": "008a80d4-edd1-412a-a746-dd1a031a54f7",
   "metadata": {},
   "outputs": [],
   "source": [
    "ds =  env.from_source(\n",
    "    source=FileSource.for_record_stream_format(StreamFormat.text_line_format(),\"input.txt\")\n",
    "            .process_static_file_set().build(),\n",
    "    watermark_strategy=WatermarkStrategy.for_monotonous_timestamps(),\n",
    "    source_name=\"file_source\"\n",
    ")"
   ]
  },
  {
   "cell_type": "code",
   "execution_count": 4,
   "id": "e087564c-66fb-4894-ad5a-b1092d27774b",
   "metadata": {},
   "outputs": [
    {
     "data": {
      "text/plain": [
       "<pyflink.datastream.data_stream.DataStreamSink at 0x1423ae650>"
      ]
     },
     "execution_count": 4,
     "metadata": {},
     "output_type": "execute_result"
    }
   ],
   "source": [
    "ds.sink_to(\n",
    "    sink=FileSink.for_row_format(\n",
    "        base_path=\"output.txt\",\n",
    "        encoder=Encoder.simple_string_encoder())\n",
    "    .with_output_file_config(\n",
    "        OutputFileConfig.builder()\n",
    "        .with_part_prefix(\"prefix\")\n",
    "        .with_part_suffix(\".ext\")\n",
    "        .build())\n",
    "    .with_rolling_policy(RollingPolicy.default_rolling_policy())\n",
    "    .build()\n",
    ")"
   ]
  },
  {
   "cell_type": "code",
   "execution_count": 9,
   "id": "30e5b363-ed23-471a-8ee9-7ff4c90ea2f7",
   "metadata": {},
   "outputs": [
    {
     "data": {
      "text/plain": [
       "<pyflink.datastream.data_stream.CloseableIterator at 0x146da3cd0>"
      ]
     },
     "execution_count": 9,
     "metadata": {},
     "output_type": "execute_result"
    }
   ],
   "source": [
    "ds.flat_map(lambda x: x.split()) \\\n",
    "       .map(lambda i: (i, 1), output_type=Types.TUPLE([Types.STRING(), Types.INT()])).execute_and_collect()"
   ]
  },
  {
   "cell_type": "code",
   "execution_count": null,
   "id": "726069fd-3671-4a51-a53b-0a786a060613",
   "metadata": {},
   "outputs": [],
   "source": []
  }
 ],
 "metadata": {
  "kernelspec": {
   "display_name": "Python 3 (ipykernel)",
   "language": "python",
   "name": "python3"
  },
  "language_info": {
   "codemirror_mode": {
    "name": "ipython",
    "version": 3
   },
   "file_extension": ".py",
   "mimetype": "text/x-python",
   "name": "python",
   "nbconvert_exporter": "python",
   "pygments_lexer": "ipython3",
   "version": "3.11.7"
  }
 },
 "nbformat": 4,
 "nbformat_minor": 5
}
